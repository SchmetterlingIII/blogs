{
 "cells": [
  {
   "cell_type": "markdown",
   "id": "087ab7ed",
   "metadata": {},
   "source": [
    "# Ethics in Mathematical Modelling\n",
    "This will be a very extensive research essay in which I develop my points of the social cohesion exploration and see how ethics should be applied when developing these mathematical models. I believe that this links with Godel's Second Incompleteness Theorem, a parallel that I will explore within the context of bias in LLMs (also given that I am soon to read *Godel, Escher, Bach* by *Douglas Hofstadter*).\n",
    "\n",
    "Points of discussion (in which I hope to replicate the findings I have seen):\n",
    "- PredPol (the maths & foundation as well as its effect on the communities in which it was implemented)\n",
    "- Ethics in LLMs (where the Godel point shines through)\n",
    "- Systems view and my intentions for this and corruption (is it possible to model out corruption in a way that gives insight on what new systems/products should be designed to deconstruct/disincentivise this. I can talk about how I use this model of incentivisation in designs in reference to the DIC project (only briefly since it detracts) and see what insight I could get)\n",
    "- What is the ethics of the scheme that I have suggested (of effectively social engineering). Not just saying *ethics* as a buzzword but properly deconstructing it through a philosophical lens (or asking for a discussion of it, maybe exporting this blog to Ms Molyneux) to properly explore the issue\n",
    "- *Whatever things spark up in research, there will be a lot of reading to do for this so many other tangential points will arise.*"
   ]
  }
 ],
 "metadata": {
  "language_info": {
   "name": "python"
  }
 },
 "nbformat": 4,
 "nbformat_minor": 5
}
